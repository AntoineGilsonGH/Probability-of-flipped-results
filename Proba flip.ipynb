{
 "cells": [
  {
   "cell_type": "code",
   "execution_count": 1,
   "metadata": {},
   "outputs": [],
   "source": [
    "import numpy as np\n",
    "import matplotlib.pyplot as plt"
   ]
  },
  {
   "cell_type": "code",
   "execution_count": 2,
   "metadata": {},
   "outputs": [],
   "source": [
    "def proba_of_flipping(n, pA, pB, p11, num_sampling):\n",
    "    \"\"\"\n",
    "    Estimates the probability of flipping, i.e. the probability that method A was in fact better than method B.\n",
    "    This is done by sampling from a Dirichlet distribution based on provided parameters.\n",
    "\n",
    "    Args:\n",
    "    n (int): Number of samples in the test set n.\n",
    "    pA (float): Accuracy of method A.\n",
    "    pB (float): Accuracy of method B.\n",
    "    p11 (float): The assumed fraction of cases for which the two methods are correct (plays the same role as the correlation for the Dice).\n",
    "    num_sampling (int): Number of samples to generate from the Dirichlet distribution.\n",
    "\n",
    "    Returns:\n",
    "    float: Probability of flipping\n",
    "    \"\"\"\n",
    "\n",
    "    n11 = p11 * n\n",
    "\n",
    "    x1 = n * pA - n11  # Occurrences of A but not B\n",
    "    x2 = n * pB - n11  # Occurrences of B but not A\n",
    "\n",
    "    # Compute parameters for the Dirichlet distribution\n",
    "    alpha1 = x1 + 1\n",
    "    alpha2 = x2 + 1\n",
    "    alpha3 = n - x1 - x2 + 1\n",
    "\n",
    "    # Define the number of samples to draw from the Dirichlet distribution\n",
    "    num_samples = num_sampling\n",
    "\n",
    "    # Draw samples from the Dirichlet distribution with parameters alpha1, alpha2, and alpha3\n",
    "    samples = np.random.dirichlet([alpha1, alpha2, alpha3], num_samples)\n",
    "\n",
    "    p1_samples = samples[:, 0]\n",
    "    p2_samples = samples[:, 1]\n",
    "\n",
    "    # Count how many times p1<p2 which is the same as pA<pB\n",
    "    count_p1_less_than_p2 = np.sum(p1_samples < p2_samples)\n",
    "\n",
    "    return samples, p1_samples, p2_samples, count_p1_less_than_p2 / num_samples"
   ]
  },
  {
   "cell_type": "code",
   "execution_count": 12,
   "metadata": {},
   "outputs": [
    {
     "data": {
      "text/plain": [
       "(array([[0.40812127, 0.38556315, 0.20631559],\n",
       "        [0.37962746, 0.33942649, 0.28094605],\n",
       "        [0.36583308, 0.47857451, 0.15559242],\n",
       "        ...,\n",
       "        [0.4143294 , 0.36302164, 0.22264896],\n",
       "        [0.3882837 , 0.39046857, 0.22124773],\n",
       "        [0.43717454, 0.32341637, 0.2394091 ]]),\n",
       " array([0.40812127, 0.37962746, 0.36583308, ..., 0.4143294 , 0.3882837 ,\n",
       "        0.43717454]),\n",
       " array([0.38556315, 0.33942649, 0.47857451, ..., 0.36302164, 0.39046857,\n",
       "        0.32341637]),\n",
       " 0.4567)"
      ]
     },
     "execution_count": 12,
     "metadata": {},
     "output_type": "execute_result"
    }
   ],
   "source": [
    "proba_of_flipping(100, 0.9,0.89,0.5,10000)"
   ]
  }
 ],
 "metadata": {
  "kernelspec": {
   "display_name": "Python 3",
   "language": "python",
   "name": "python3"
  },
  "language_info": {
   "codemirror_mode": {
    "name": "ipython",
    "version": 3
   },
   "file_extension": ".py",
   "mimetype": "text/x-python",
   "name": "python",
   "nbconvert_exporter": "python",
   "pygments_lexer": "ipython3",
   "version": "3.9.6"
  }
 },
 "nbformat": 4,
 "nbformat_minor": 2
}
